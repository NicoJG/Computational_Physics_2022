{
 "cells": [
  {
   "cell_type": "markdown",
   "metadata": {},
   "source": [
    "# Computational Physics 2022 - E2"
   ]
  },
  {
   "cell_type": "markdown",
   "metadata": {},
   "source": [
    "## Task 1:\n",
    "\n",
    "<img src=\"images/E2_1_derivation.png\" width=\"700\" height=\"600\">  "
   ]
  },
  {
   "cell_type": "markdown",
   "metadata": {},
   "source": [
    "## Task 2: Simulate $\\alpha=0$ using Velocity Verlet and transform to normal mode coordinates \n",
    "\n",
    "We work in dimensionless units with $m = \\kappa = 1$.\n",
    "\n",
    "Velocity Verlet:  \n",
    "- $v_i(t+\\Delta t /2) = v_i(t) + \\frac{1}{2}a_i(t) \\Delta t$  \n",
    "- $q_i(t+\\Delta t) = q_i(t) + v_i(t+\\Delta t/2) \\Delta t$  \n",
    "- calculate $a_i(t+\\Delta t)$  \n",
    "- $v_i(t+\\Delta t) = v_i(t + \\Delta t /2) + \\frac{1}{2} a_i(t+\\Delta t) \\Delta t$  \n",
    "\n",
    "Coordinate transformation ($k=1,...,N$):  \n",
    "$$\n",
    "Q_k = \\sqrt{\\frac{2}{N+1}} \\sum_{i=1}^{N} \\sqrt{m} u_i \\sin \\left( \\frac{ik\\pi}{N+1} \\right) \\\\\n",
    "P_k = \\sqrt{\\frac{2}{N+1}} \\sum_{i=1}^{N} \\frac{p_i}{\\sqrt{m}} \\sin \\left( \\frac{ik\\pi}{N+1} \\right)\n",
    "$$\n",
    "with the corresponding eigenfrequencies\n",
    "$$\n",
    "\\omega_k = 2 \\sqrt{\\frac{\\kappa}{m}} \\sin \\left( \\frac{k \\pi}{2(N+1)} \\right)\n",
    "$$\n",
    "\n",
    "In matrix form:\n",
    "$$\n",
    "\\vec{Q} = T_Q \\cdot \\vec{u} \\\\\n",
    "\\text{with} \\quad \n",
    "(T_Q)_{ki} = \\sqrt{\\frac{2}{N+1}} \\sqrt{m} \\sin \\left( \\frac{i k \\pi}{N+1} \\right) \\\\\n",
    "\\text{and} \\\\\n",
    "\\vec{P} = T_P \\cdot \\vec{p} \\\\\n",
    "\\text{with} \\quad \n",
    "(T_P)_{ki} = \\sqrt{\\frac{2}{N+1}} \\frac{1}{\\sqrt{m}} \\sin \\left( \\frac{i k \\pi}{N+1} \\right)\n",
    "$$\n",
    "Since $m=1$ we have $T_Q=T_P=T$\n",
    "\n",
    "Then the total energy is the sum of the energies in each mode:\n",
    "$$\n",
    "E_\\text{total} = \\sum_{k=1}^N E_k \\quad \\text{with} \\quad E_k = \\frac{1}{2} \\left( P_k^2 + \\omega_k^2 Q_k^2 \\right)\n",
    "$$\n",
    "\n",
    "Initial conditions so that only mode $k=1$ is active:\n",
    "$$\n",
    "P_k = \\sqrt{2 E_0} \\delta_{1k} \\quad \\text{and} \\quad Q_k = 0\n",
    "$$\n",
    "where we use $N=32$ particles and assume $E_0 = N$  \n",
    "The inverse transforms are \n",
    "$$\n",
    "u_i = \\sqrt{\\frac{2}{N+1}} \\sum_{k=1}^{N} \\frac{Q_k}{\\sqrt{m}} \\sin \\left( \\frac{ik\\pi}{N+1} \\right) \\\\\n",
    "p_i = \\sqrt{\\frac{2}{N+1}} \\sum_{k=1}^{N} \\sqrt{m} P_k  \\sin \\left( \\frac{ik\\pi}{N+1} \\right)\n",
    "$$\n",
    "So in matrix form we get\n",
    "$$\n",
    "\\vec{u} = T \\vec{Q} \\quad \\text{and} \\quad \\vec{p} = T \\vec{P}\n",
    "$$\n",
    "\n",
    "We use the time span $(0, t_\\text{max}=25000)$ with $\\Delta t = 0.1$\n"
   ]
  },
  {
   "cell_type": "markdown",
   "metadata": {},
   "source": []
  },
  {
   "cell_type": "code",
   "execution_count": null,
   "metadata": {},
   "outputs": [],
   "source": []
  }
 ],
 "metadata": {
  "kernelspec": {
   "display_name": "Python 3.9.12 ('base')",
   "language": "python",
   "name": "python3"
  },
  "language_info": {
   "codemirror_mode": {
    "name": "ipython",
    "version": 3
   },
   "file_extension": ".py",
   "mimetype": "text/x-python",
   "name": "python",
   "nbconvert_exporter": "python",
   "pygments_lexer": "ipython3",
   "version": "3.9.12"
  },
  "orig_nbformat": 4,
  "vscode": {
   "interpreter": {
    "hash": "1131131030a291edaa0540cb52e98dea34c9d41a4d69af2a82733e3cc002c9dc"
   }
  }
 },
 "nbformat": 4,
 "nbformat_minor": 2
}
